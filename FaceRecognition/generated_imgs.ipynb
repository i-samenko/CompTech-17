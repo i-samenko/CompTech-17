{
 "cells": [
  {
   "cell_type": "code",
   "execution_count": null,
   "metadata": {
    "collapsed": true
   },
   "outputs": [],
   "source": [
    "from keras.models import Model\n",
    "from keras.layers import Input, Dense\n",
    "from keras.utils import np_utils\n",
    "import numpy as np \n",
    "from PIL import Image\n",
    "\n",
    "def read_jpeg(path):\n",
    "    im = Image.open(path).convert('L')\n",
    "    X = list(im.getdata())\n",
    "    X = np.array(X).reshape(9216, 1)\n",
    "    return X\n",
    "    \n",
    "X_train = read_jpeg('data/face.jpg')\n",
    "Y_train = []\n",
    "Y_train.append(1)\n"
   ]
  },
  {
   "cell_type": "code",
   "execution_count": null,
   "metadata": {
    "collapsed": true
   },
   "outputs": [],
   "source": [
    "y_train = np.array(Y_train)\n",
    "\n",
    "num_classes = 1\n",
    "num_train = 1\n",
    "num_generated_img = 3\n",
    "height, weidth, deph = 96, 96, 1 \n",
    "\n",
    "X_train = X_train.reshape(num_train, height, weidth, deph)\n",
    "#Y_train = np_utils.to_categorical(y_train, num_classes)\n",
    "uniques, ids = np.unique(y_train, return_inverse=True)\n",
    "Y_train =np_utils.to_categorical(ids, num_classes)\n",
    "\n",
    "inp = Input(shape=(num_generated_img, height, weidth, deph))\n",
    "\n",
    "model = Model(input = inp, output = inp)\n",
    "#print(X_train.shape, Y_train.shape)"
   ]
  },
  {
   "cell_type": "code",
   "execution_count": null,
   "metadata": {
    "collapsed": true
   },
   "outputs": [],
   "source": [
    "model.compile(loss='categorical_crossentropy', #функция потерь крос - энтропии\n",
    "             optimizer = 'adam',               #отпимизатор Адама\n",
    "              metrics = ['accuracy']           #точность - доля входных данных, отнесенных к правильному классу\n",
    "             )"
   ]
  },
  {
   "cell_type": "code",
   "execution_count": null,
   "metadata": {
    "collapsed": true
   },
   "outputs": [],
   "source": [
    "from keras.preprocessing.image import ImageDataGenerator\n",
    "\n",
    "datagen = ImageDataGenerator(\n",
    "            width_shift_range=0.1,\n",
    "            height_shift_range=0.1,\n",
    "            shear_range=0.2,\n",
    "            zoom_range=0.2,\n",
    "            channel_shift_range=0.3,\n",
    "            fill_mode='nearest',\n",
    "            horizontal_flip=True)\n",
    "\n",
    "datagen.fit(X_train)\n",
    "\n",
    "X_batch, Y_batch = datagen.flow(X_train, Y_train, save_to_dir = \"data/generated_imgs\")"
   ]
  }
 ],
 "metadata": {
  "kernelspec": {
   "display_name": "Python [conda root]",
   "language": "python",
   "name": "conda-root-py"
  },
  "language_info": {
   "codemirror_mode": {
    "name": "ipython",
    "version": 3
   },
   "file_extension": ".py",
   "mimetype": "text/x-python",
   "name": "python",
   "nbconvert_exporter": "python",
   "pygments_lexer": "ipython3",
   "version": "3.5.2"
  }
 },
 "nbformat": 4,
 "nbformat_minor": 2
}
